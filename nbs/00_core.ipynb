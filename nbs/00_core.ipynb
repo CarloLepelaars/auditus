{
 "cells": [
  {
   "cell_type": "markdown",
   "metadata": {},
   "source": [
    "# core\n",
    "\n",
    "> Audio Embeddings"
   ]
  },
  {
   "cell_type": "code",
   "execution_count": null,
   "metadata": {},
   "outputs": [],
   "source": [
    "#| default_exp core"
   ]
  },
  {
   "cell_type": "code",
   "execution_count": null,
   "metadata": {},
   "outputs": [],
   "source": [
    "#| hide\n",
    "from nbdev.showdoc import *"
   ]
  },
  {
   "cell_type": "code",
   "execution_count": null,
   "metadata": {},
   "outputs": [],
   "source": [
    "#| export\n",
    "def foo(): pass"
   ]
  },
  {
   "cell_type": "code",
   "execution_count": null,
   "metadata": {},
   "outputs": [
    {
     "name": "stderr",
     "output_type": "stream",
     "text": [
      "/Users/clepelaars/miniconda3/envs/py312/lib/python3.12/site-packages/tqdm/auto.py:21: TqdmWarning: IProgress not found. Please update jupyter and ipywidgets. See https://ipywidgets.readthedocs.io/en/stable/user_install.html\n",
      "  from .autonotebook import tqdm as notebook_tqdm\n"
     ]
    }
   ],
   "source": [
    "import numpy as np\n",
    "from fastcore.all import *\n",
    "import soundfile as sf\n",
    "from fasttransform import Transform, Pipeline\n",
    "from transformers import AutoFeatureExtractor"
   ]
  },
  {
   "cell_type": "code",
   "execution_count": null,
   "metadata": {},
   "outputs": [],
   "source": [
    "def load_audio(path, sec=None, sample_rate=16_000) -> np.array:\n",
    "    with sf.SoundFile(path) as f: audio = f.read(int(sec * sample_rate)) if sec else f.read()\n",
    "    return audio"
   ]
  },
  {
   "cell_type": "code",
   "execution_count": null,
   "metadata": {},
   "outputs": [
    {
     "name": "stdout",
     "output_type": "stream",
     "text": [
      "(632790,)\n"
     ]
    },
    {
     "data": {
      "text/plain": [
       "array([-2.64216160e-05, -2.54259703e-05,  5.56615578e-06, -5.17481631e-08,\n",
       "       -1.35020821e-06])"
      ]
     },
     "execution_count": null,
     "metadata": {},
     "output_type": "execute_result"
    }
   ],
   "source": [
    "audio = load_audio('../test_files/XC119042.ogg')\n",
    "print(audio.shape)\n",
    "audio[:5]"
   ]
  },
  {
   "cell_type": "code",
   "execution_count": null,
   "metadata": {},
   "outputs": [],
   "source": [
    "def pool(inputs, pooling=\"mean\"):\n",
    "    if pooling == \"mean\":\n",
    "        return inputs.mean(axis=0)\n",
    "    elif pooling == \"max\":\n",
    "        return inputs.max(axis=0)\n",
    "    else:\n",
    "        return inputs"
   ]
  },
  {
   "cell_type": "code",
   "execution_count": null,
   "metadata": {},
   "outputs": [
    {
     "data": {
      "text/plain": [
       "array([ 6,  8,  9,  9, 10])"
      ]
     },
     "execution_count": null,
     "metadata": {},
     "output_type": "execute_result"
    }
   ],
   "source": [
    "pool(np.array([[1,8,9,4,5], \n",
    "               [6,7,8,9,10]]), pooling=\"max\")"
   ]
  },
  {
   "cell_type": "code",
   "execution_count": null,
   "metadata": {},
   "outputs": [
    {
     "data": {
      "text/plain": [
       "array([3.5, 4.5, 5.5, 6.5, 7.5])"
      ]
     },
     "execution_count": null,
     "metadata": {},
     "output_type": "execute_result"
    }
   ],
   "source": [
    "pool(np.array([[1,2,3,4,5], \n",
    "               [6,7,8,9,10]]), pooling=\"mean\")"
   ]
  },
  {
   "cell_type": "code",
   "execution_count": null,
   "metadata": {},
   "outputs": [
    {
     "name": "stdout",
     "output_type": "stream",
     "text": [
      "(128,)\n"
     ]
    },
    {
     "data": {
      "text/plain": [
       "array([ 0.26203126, -0.17400272,  0.20281754, -1.2775939 , -0.03474949],\n",
       "      dtype=float32)"
      ]
     },
     "execution_count": null,
     "metadata": {},
     "output_type": "execute_result"
    }
   ],
   "source": [
    "def extract_audio_features(audio, sample_rate=16_000, model_name=\"MIT/ast-finetuned-audioset-10-10-0.4593\", pooling=None):\n",
    "    feature_extractor = AutoFeatureExtractor.from_pretrained(model_name)\n",
    "    inputs = np.array(feature_extractor(audio, sampling_rate=sample_rate, return_tensors=\"pt\")['input_values'][0])\n",
    "    return pool(inputs, pooling) if pooling else inputs\n",
    "\n",
    "inputs = extract_audio_features(audio, pooling=\"max\")\n",
    "print(inputs.shape)\n",
    "inputs[:5]"
   ]
  },
  {
   "cell_type": "code",
   "execution_count": null,
   "metadata": {},
   "outputs": [],
   "source": [
    "#| hide\n",
    "import nbdev; nbdev.nbdev_export()"
   ]
  }
 ],
 "metadata": {
  "kernelspec": {
   "display_name": "python3",
   "language": "python",
   "name": "python3"
  }
 },
 "nbformat": 4,
 "nbformat_minor": 4
}
